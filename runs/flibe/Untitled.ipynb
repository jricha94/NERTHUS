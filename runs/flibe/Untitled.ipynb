{
 "cells": [
  {
   "cell_type": "code",
   "execution_count": 5,
   "id": "024e25fb",
   "metadata": {},
   "outputs": [],
   "source": [
    "from burn import burn"
   ]
  },
  {
   "cell_type": "code",
   "execution_count": 6,
   "id": "9937d78b",
   "metadata": {
    "scrolled": true
   },
   "outputs": [
    {
     "name": "stdout",
     "output_type": "stream",
     "text": [
      "Defaulting to user installation because normal site-packages is not writeable\n",
      "Requirement already satisfied: serpentTools in /home/jarod/.local/lib/python3.10/site-packages (0.9.4)\n",
      "Requirement already satisfied: pyyaml>=5.1.1 in /usr/lib/python3/dist-packages (from serpentTools) (5.4.1)\n",
      "Requirement already satisfied: matplotlib!=3.3.4,>=2.2.3 in /usr/lib/python3/dist-packages (from serpentTools) (3.5.1)\n",
      "Requirement already satisfied: numpy>=1.16.0 in /usr/lib/python3/dist-packages (from serpentTools) (1.21.5)\n"
     ]
    }
   ],
   "source": [
    "import sys\n",
    "!{sys.executable} -m pip install serpentTools"
   ]
  },
  {
   "cell_type": "code",
   "execution_count": null,
   "id": "dd3e7e2b",
   "metadata": {},
   "outputs": [],
   "source": []
  }
 ],
 "metadata": {
  "kernelspec": {
   "display_name": "Python 3 (ipykernel)",
   "language": "python",
   "name": "python3"
  },
  "language_info": {
   "codemirror_mode": {
    "name": "ipython",
    "version": 3
   },
   "file_extension": ".py",
   "mimetype": "text/x-python",
   "name": "python",
   "nbconvert_exporter": "python",
   "pygments_lexer": "ipython3",
   "version": "3.10.4"
  }
 },
 "nbformat": 4,
 "nbformat_minor": 5
}
